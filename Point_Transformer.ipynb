{
  "nbformat": 4,
  "nbformat_minor": 0,
  "metadata": {
    "colab": {
      "name": "Point_Transformer.ipynb",
      "provenance": [],
      "collapsed_sections": [],
      "authorship_tag": "ABX9TyOaD6L/kxEb5zhXsepVNfV0",
      "include_colab_link": true
    },
    "kernelspec": {
      "name": "python3",
      "display_name": "Python 3"
    },
    "language_info": {
      "name": "python"
    },
    "accelerator": "GPU"
  },
  "cells": [
    {
      "cell_type": "markdown",
      "metadata": {
        "id": "view-in-github",
        "colab_type": "text"
      },
      "source": [
        "<a href=\"https://colab.research.google.com/github/ElsheikhAhmed/Point-Transformers/blob/master/Point_Transformer.ipynb\" target=\"_parent\"><img src=\"https://colab.research.google.com/assets/colab-badge.svg\" alt=\"Open In Colab\"/></a>"
      ]
    },
    {
      "cell_type": "code",
      "metadata": {
        "colab": {
          "base_uri": "https://localhost:8080/"
        },
        "id": "NZ0H1Q7OyBOS",
        "outputId": "3e6835bd-6fe6-4f62-9467-532fe188cada"
      },
      "source": [
        "!git clone https://github.com/qq456cvb/Point-Transformers.git"
      ],
      "execution_count": 1,
      "outputs": [
        {
          "output_type": "stream",
          "name": "stdout",
          "text": [
            "Cloning into 'Point-Transformers'...\n",
            "remote: Enumerating objects: 77, done.\u001b[K\n",
            "remote: Counting objects: 100% (77/77), done.\u001b[K\n",
            "remote: Compressing objects: 100% (63/63), done.\u001b[K\n",
            "remote: Total 77 (delta 28), reused 48 (delta 10), pack-reused 0\u001b[K\n",
            "Unpacking objects: 100% (77/77), done.\n"
          ]
        }
      ]
    },
    {
      "cell_type": "code",
      "metadata": {
        "id": "1pYpliopynSR"
      },
      "source": [
        "import os \n",
        "os.chdir ('./Point-Transformers')"
      ],
      "execution_count": 2,
      "outputs": []
    },
    {
      "cell_type": "code",
      "metadata": {
        "colab": {
          "base_uri": "https://localhost:8080/",
          "height": 35
        },
        "id": "uZfVPmrpzIfn",
        "outputId": "0307d8df-9672-4342-8847-a20c9d5aa0d1"
      },
      "source": [
        "pwd"
      ],
      "execution_count": 3,
      "outputs": [
        {
          "output_type": "execute_result",
          "data": {
            "application/vnd.google.colaboratory.intrinsic+json": {
              "type": "string"
            },
            "text/plain": [
              "'/content/Point-Transformers'"
            ]
          },
          "metadata": {},
          "execution_count": 3
        }
      ]
    },
    {
      "cell_type": "code",
      "metadata": {
        "colab": {
          "base_uri": "https://localhost:8080/"
        },
        "id": "OpiUw58azJnf",
        "outputId": "7851d0f1-2185-4213-e73c-a36d5ad7dac9"
      },
      "source": [
        "!wget https://www.dropbox.com/s/a7b55382hoiy1vj/PortStructure.zip?dl=0"
      ],
      "execution_count": 4,
      "outputs": [
        {
          "output_type": "stream",
          "name": "stdout",
          "text": [
            "--2021-08-31 15:25:17--  https://www.dropbox.com/s/a7b55382hoiy1vj/PortStructure.zip?dl=0\n",
            "Resolving www.dropbox.com (www.dropbox.com)... 162.125.3.18, 2620:100:6018:18::a27d:312\n",
            "Connecting to www.dropbox.com (www.dropbox.com)|162.125.3.18|:443... connected.\n",
            "HTTP request sent, awaiting response... 301 Moved Permanently\n",
            "Location: /s/raw/a7b55382hoiy1vj/PortStructure.zip [following]\n",
            "--2021-08-31 15:25:17--  https://www.dropbox.com/s/raw/a7b55382hoiy1vj/PortStructure.zip\n",
            "Reusing existing connection to www.dropbox.com:443.\n",
            "HTTP request sent, awaiting response... 302 Found\n",
            "Location: https://uc393f36e65003649cd0f863ed31.dl.dropboxusercontent.com/cd/0/inline/BVT0IZwlWv2tqT6fbLI-q1j7WfSujzjwIadD2p9ijaYjlXzGy2BapnheEhM4E_vutDyV4eOCzH_zRNmONVjH8c5D6U1dyN4Gwqs1lAoo8kp8jko9Tsoqq9_is7-QZN5A4Dd_ZQFutn3NAmM90Jj8sFp0/file# [following]\n",
            "--2021-08-31 15:25:17--  https://uc393f36e65003649cd0f863ed31.dl.dropboxusercontent.com/cd/0/inline/BVT0IZwlWv2tqT6fbLI-q1j7WfSujzjwIadD2p9ijaYjlXzGy2BapnheEhM4E_vutDyV4eOCzH_zRNmONVjH8c5D6U1dyN4Gwqs1lAoo8kp8jko9Tsoqq9_is7-QZN5A4Dd_ZQFutn3NAmM90Jj8sFp0/file\n",
            "Resolving uc393f36e65003649cd0f863ed31.dl.dropboxusercontent.com (uc393f36e65003649cd0f863ed31.dl.dropboxusercontent.com)... 162.125.3.15, 2620:100:6018:15::a27d:30f\n",
            "Connecting to uc393f36e65003649cd0f863ed31.dl.dropboxusercontent.com (uc393f36e65003649cd0f863ed31.dl.dropboxusercontent.com)|162.125.3.15|:443... connected.\n",
            "HTTP request sent, awaiting response... 302 Found\n",
            "Location: /cd/0/inline2/BVSS714ysOR4GHU3xLO_hPC3dxICVaZMGp1bvLEANp-Th9aFqPAC1n0zVzhurRA1EtOtFqNp4Sgs86V3ZccBL4L-Y5SeBP_Bk4Ume_V6npWVgeN4BOc11aTT-1eKvi62_kI_8l-Vm7yE4Z6VhD_t-wLr9LREQANuflftfE_0z8I8LCw2-d0Oz0w5ai-1aSakXFUKhqNbk-v-yUMWPWsBC0dl3Z951cjE4W6KCVIVL90kqap4itOTG-O-UvGR0ZO0G8sFwApDghag4MR7hTcih1pCtBOd80tHeiCng6n7NXuqeICM6YgxAKGPwC5g2nHWpcTWyLMKdgm0vM7smTLB5PABTFnCyX38tsOTmx3xUTvwq-Jk48HzDAGrNzPXzokQCOc/file [following]\n",
            "--2021-08-31 15:25:17--  https://uc393f36e65003649cd0f863ed31.dl.dropboxusercontent.com/cd/0/inline2/BVSS714ysOR4GHU3xLO_hPC3dxICVaZMGp1bvLEANp-Th9aFqPAC1n0zVzhurRA1EtOtFqNp4Sgs86V3ZccBL4L-Y5SeBP_Bk4Ume_V6npWVgeN4BOc11aTT-1eKvi62_kI_8l-Vm7yE4Z6VhD_t-wLr9LREQANuflftfE_0z8I8LCw2-d0Oz0w5ai-1aSakXFUKhqNbk-v-yUMWPWsBC0dl3Z951cjE4W6KCVIVL90kqap4itOTG-O-UvGR0ZO0G8sFwApDghag4MR7hTcih1pCtBOd80tHeiCng6n7NXuqeICM6YgxAKGPwC5g2nHWpcTWyLMKdgm0vM7smTLB5PABTFnCyX38tsOTmx3xUTvwq-Jk48HzDAGrNzPXzokQCOc/file\n",
            "Reusing existing connection to uc393f36e65003649cd0f863ed31.dl.dropboxusercontent.com:443.\n",
            "HTTP request sent, awaiting response... 200 OK\n",
            "Length: 15356864 (15M) [application/zip]\n",
            "Saving to: ‘PortStructure.zip?dl=0’\n",
            "\n",
            "PortStructure.zip?d 100%[===================>]  14.64M  60.4MB/s    in 0.2s    \n",
            "\n",
            "2021-08-31 15:25:18 (60.4 MB/s) - ‘PortStructure.zip?dl=0’ saved [15356864/15356864]\n",
            "\n"
          ]
        }
      ]
    },
    {
      "cell_type": "code",
      "metadata": {
        "id": "koilniVhz69N"
      },
      "source": [
        "!unzip  \"PortStructure.zip?dl=0\""
      ],
      "execution_count": null,
      "outputs": []
    },
    {
      "cell_type": "code",
      "metadata": {
        "colab": {
          "base_uri": "https://localhost:8080/",
          "height": 717
        },
        "id": "bKFaJF3P1lbU",
        "outputId": "a3147cd5-f540-456b-8baa-03c3a224591f"
      },
      "source": [
        "!pip install hydra\n",
        "!pip install hydra-core"
      ],
      "execution_count": 6,
      "outputs": [
        {
          "output_type": "stream",
          "name": "stdout",
          "text": [
            "Collecting hydra\n",
            "  Downloading Hydra-2.5.tar.gz (82 kB)\n",
            "\u001b[?25l\r\u001b[K     |████                            | 10 kB 20.3 MB/s eta 0:00:01\r\u001b[K     |████████                        | 20 kB 24.1 MB/s eta 0:00:01\r\u001b[K     |████████████                    | 30 kB 12.5 MB/s eta 0:00:01\r\u001b[K     |████████████████                | 40 kB 9.5 MB/s eta 0:00:01\r\u001b[K     |███████████████████▉            | 51 kB 5.4 MB/s eta 0:00:01\r\u001b[K     |███████████████████████▉        | 61 kB 5.9 MB/s eta 0:00:01\r\u001b[K     |███████████████████████████▉    | 71 kB 5.7 MB/s eta 0:00:01\r\u001b[K     |███████████████████████████████▉| 81 kB 6.4 MB/s eta 0:00:01\r\u001b[K     |████████████████████████████████| 82 kB 594 kB/s \n",
            "\u001b[?25hBuilding wheels for collected packages: hydra\n",
            "  Building wheel for hydra (setup.py) ... \u001b[?25l\u001b[?25hdone\n",
            "  Created wheel for hydra: filename=Hydra-2.5-cp37-cp37m-linux_x86_64.whl size=220744 sha256=70778da17822464ad3099d29d26c27287807695a3d10816d193561e5ca0e645c\n",
            "  Stored in directory: /root/.cache/pip/wheels/46/28/7d/3b38a41d900da90c4e17576f442bac9344eb1f5a4e78ee9f83\n",
            "Successfully built hydra\n",
            "Installing collected packages: hydra\n",
            "Successfully installed hydra-2.5\n",
            "Collecting hydra-core\n",
            "  Downloading hydra_core-1.1.1-py3-none-any.whl (145 kB)\n",
            "\u001b[K     |████████████████████████████████| 145 kB 5.2 MB/s \n",
            "\u001b[?25hCollecting antlr4-python3-runtime==4.8\n",
            "  Downloading antlr4-python3-runtime-4.8.tar.gz (112 kB)\n",
            "\u001b[K     |████████████████████████████████| 112 kB 36.0 MB/s \n",
            "\u001b[?25hRequirement already satisfied: importlib-resources in /usr/local/lib/python3.7/dist-packages (from hydra-core) (5.2.2)\n",
            "Collecting omegaconf==2.1.*\n",
            "  Downloading omegaconf-2.1.1-py3-none-any.whl (74 kB)\n",
            "\u001b[K     |████████████████████████████████| 74 kB 2.7 MB/s \n",
            "\u001b[?25hCollecting PyYAML>=5.1.0\n",
            "  Downloading PyYAML-5.4.1-cp37-cp37m-manylinux1_x86_64.whl (636 kB)\n",
            "\u001b[K     |████████████████████████████████| 636 kB 39.0 MB/s \n",
            "\u001b[?25hRequirement already satisfied: zipp>=3.1.0 in /usr/local/lib/python3.7/dist-packages (from importlib-resources->hydra-core) (3.5.0)\n",
            "Building wheels for collected packages: antlr4-python3-runtime\n",
            "  Building wheel for antlr4-python3-runtime (setup.py) ... \u001b[?25l\u001b[?25hdone\n",
            "  Created wheel for antlr4-python3-runtime: filename=antlr4_python3_runtime-4.8-py3-none-any.whl size=141230 sha256=61af25e9ad59ba273eef5576db02579649ca27cb83a99e2c9c9dcf5033d5a00d\n",
            "  Stored in directory: /root/.cache/pip/wheels/ca/33/b7/336836125fc9bb4ceaa4376d8abca10ca8bc84ddc824baea6c\n",
            "Successfully built antlr4-python3-runtime\n",
            "Installing collected packages: PyYAML, antlr4-python3-runtime, omegaconf, hydra-core\n",
            "  Attempting uninstall: PyYAML\n",
            "    Found existing installation: PyYAML 3.13\n",
            "    Uninstalling PyYAML-3.13:\n",
            "      Successfully uninstalled PyYAML-3.13\n",
            "Successfully installed PyYAML-5.4.1 antlr4-python3-runtime-4.8 hydra-core-1.1.1 omegaconf-2.1.1\n"
          ]
        },
        {
          "output_type": "display_data",
          "data": {
            "application/vnd.colab-display-data+json": {
              "pip_warning": {
                "packages": [
                  "pydevd_plugins"
                ]
              }
            }
          },
          "metadata": {}
        }
      ]
    },
    {
      "cell_type": "code",
      "metadata": {
        "colab": {
          "base_uri": "https://localhost:8080/"
        },
        "id": "PUQh8dgs0KBl",
        "outputId": "78aa557b-d94f-4ab1-94ce-9644a4be15f3"
      },
      "source": [
        "!python /content/Point-Transformers/train_cls.py"
      ],
      "execution_count": 14,
      "outputs": [
        {
          "output_type": "stream",
          "name": "stdout",
          "text": [
            "/usr/local/lib/python3.7/dist-packages/hydra/_internal/defaults_list.py:251: UserWarning: In 'cls': Defaults list is missing `_self_`. See https://hydra.cc/docs/upgrades/1.0_to_1.1/default_composition_order for more information\n",
            "  warnings.warn(msg, UserWarning)\n",
            "/usr/local/lib/python3.7/dist-packages/hydra/core/default_element.py:126: UserWarning: In 'model/Menghao': Usage of deprecated keyword in package header '# @package _group_'.\n",
            "See https://hydra.cc/docs/next/upgrades/1.0_to_1.1/changes_to_package_header for more information\n",
            "  See {url} for more information\"\"\"\n",
            "[2021-08-31 15:53:00,195][__main__][INFO] - Load dataset ...\n",
            "The size of train data is 286\n",
            "The size of test data is 73\n",
            "/usr/local/lib/python3.7/dist-packages/torch/utils/data/dataloader.py:481: UserWarning: This DataLoader will create 4 worker processes in total. Our suggested max number of worker in current system is 2, which is smaller than what this DataLoader is going to create. Please be aware that excessive worker creation might get DataLoader running slow or even freeze, lower the worker number to avoid potential slowness/freeze if necessary.\n",
            "  cpuset_checked))\n",
            "[2021-08-31 15:53:02,659][__main__][INFO] - No existing model, starting training from scratch...\n",
            "[2021-08-31 15:53:02,659][__main__][INFO] - Start training...\n",
            "[2021-08-31 15:53:02,660][__main__][INFO] - Epoch 1 (1/200):\n",
            "  0% 0/18 [00:02<?, ?it/s]\n",
            "Error executing job with overrides: []\n",
            "Traceback (most recent call last):\n",
            "  File \"/content/Point-Transformers/train_cls.py\", line 106, in main\n",
            "    for batch_id, data in enumerate(tqdm(trainDataLoader, 0)): # total=len(trainDataLoader), smoothing=0.9):\n",
            "  File \"/usr/local/lib/python3.7/dist-packages/tqdm/std.py\", line 1185, in __iter__\n",
            "    for obj in iterable:\n",
            "  File \"/usr/local/lib/python3.7/dist-packages/torch/utils/data/dataloader.py\", line 521, in __next__\n",
            "    data = self._next_data()\n",
            "  File \"/usr/local/lib/python3.7/dist-packages/torch/utils/data/dataloader.py\", line 1203, in _next_data\n",
            "    return self._process_data(data)\n",
            "  File \"/usr/local/lib/python3.7/dist-packages/torch/utils/data/dataloader.py\", line 1229, in _process_data\n",
            "    data.reraise()\n",
            "  File \"/usr/local/lib/python3.7/dist-packages/torch/_utils.py\", line 425, in reraise\n",
            "    raise self.exc_type(msg)\n",
            "RuntimeError: Caught RuntimeError in DataLoader worker process 0.\n",
            "Original Traceback (most recent call last):\n",
            "  File \"/usr/local/lib/python3.7/dist-packages/torch/utils/data/_utils/worker.py\", line 287, in _worker_loop\n",
            "    data = fetcher.fetch(index)\n",
            "  File \"/usr/local/lib/python3.7/dist-packages/torch/utils/data/_utils/fetch.py\", line 47, in fetch\n",
            "    return self.collate_fn(data)\n",
            "  File \"/usr/local/lib/python3.7/dist-packages/torch/utils/data/_utils/collate.py\", line 84, in default_collate\n",
            "    return [default_collate(samples) for samples in transposed]\n",
            "  File \"/usr/local/lib/python3.7/dist-packages/torch/utils/data/_utils/collate.py\", line 84, in <listcomp>\n",
            "    return [default_collate(samples) for samples in transposed]\n",
            "  File \"/usr/local/lib/python3.7/dist-packages/torch/utils/data/_utils/collate.py\", line 64, in default_collate\n",
            "    return default_collate([torch.as_tensor(b) for b in batch])\n",
            "  File \"/usr/local/lib/python3.7/dist-packages/torch/utils/data/_utils/collate.py\", line 56, in default_collate\n",
            "    return torch.stack(batch, 0, out=out)\n",
            "RuntimeError: stack expects each tensor to be equal size, but got [295, 4] at entry 0 and [1024, 7] at entry 1\n",
            "\n",
            "\n",
            "Set the environment variable HYDRA_FULL_ERROR=1 for a complete stack trace.\n"
          ]
        }
      ]
    },
    {
      "cell_type": "code",
      "metadata": {
        "id": "cz36mMXr1TB7"
      },
      "source": [
        ""
      ],
      "execution_count": null,
      "outputs": []
    },
    {
      "cell_type": "code",
      "metadata": {
        "id": "eEM3MJH8-5Uc"
      },
      "source": [
        ""
      ],
      "execution_count": null,
      "outputs": []
    }
  ]
}