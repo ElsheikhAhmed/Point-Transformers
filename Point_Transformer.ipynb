{
  "nbformat": 4,
  "nbformat_minor": 0,
  "metadata": {
    "colab": {
      "name": "Point_Transformer.ipynb",
      "provenance": [],
      "collapsed_sections": [],
      "authorship_tag": "ABX9TyNuNGASIxbrC+SMLCjo/Z/r",
      "include_colab_link": true
    },
    "kernelspec": {
      "name": "python3",
      "display_name": "Python 3"
    },
    "language_info": {
      "name": "python"
    },
    "accelerator": "GPU"
  },
  "cells": [
    {
      "cell_type": "markdown",
      "metadata": {
        "id": "view-in-github",
        "colab_type": "text"
      },
      "source": [
        "<a href=\"https://colab.research.google.com/github/ElsheikhAhmed/Point-Transformers/blob/master/Point_Transformer.ipynb\" target=\"_parent\"><img src=\"https://colab.research.google.com/assets/colab-badge.svg\" alt=\"Open In Colab\"/></a>"
      ]
    },
    {
      "cell_type": "code",
      "metadata": {
        "id": "NZ0H1Q7OyBOS"
      },
      "source": [
        "!git clone https://github.com/qq456cvb/Point-Transformers.git"
      ],
      "execution_count": null,
      "outputs": []
    },
    {
      "cell_type": "code",
      "metadata": {
        "id": "1pYpliopynSR"
      },
      "source": [
        "import os \n",
        "os.chdir ('./Point-Transformers')"
      ],
      "execution_count": 2,
      "outputs": []
    },
    {
      "cell_type": "code",
      "metadata": {
        "id": "uZfVPmrpzIfn"
      },
      "source": [
        "pwd"
      ],
      "execution_count": null,
      "outputs": []
    },
    {
      "cell_type": "code",
      "metadata": {
        "id": "OpiUw58azJnf"
      },
      "source": [
        "!wget https://www.dropbox.com/s/a7b55382hoiy1vj/PortStructure.zip?dl=0"
      ],
      "execution_count": null,
      "outputs": []
    },
    {
      "cell_type": "code",
      "metadata": {
        "id": "koilniVhz69N"
      },
      "source": [
        "!unzip  \"PortStructure.zip?dl=0\""
      ],
      "execution_count": null,
      "outputs": []
    },
    {
      "cell_type": "code",
      "metadata": {
        "id": "bKFaJF3P1lbU"
      },
      "source": [
        "!pip install hydra\n",
        "!pip install hydra-core"
      ],
      "execution_count": null,
      "outputs": []
    },
    {
      "cell_type": "code",
      "metadata": {
        "id": "PUQh8dgs0KBl"
      },
      "source": [
        "!python /content/Point-Transformers/train_cls.py"
      ],
      "execution_count": null,
      "outputs": []
    },
    {
      "cell_type": "code",
      "metadata": {
        "id": "cz36mMXr1TB7"
      },
      "source": [
        "from dataset import ModelNetDataLoader\n",
        "import argparse\n",
        "import numpy as np\n",
        "import os\n",
        "import torch\n",
        "import datetime\n",
        "import logging\n",
        "from pathlib import Path\n",
        "from tqdm import tqdm\n",
        "import sys\n",
        "import provider\n",
        "import importlib\n",
        "import shutil\n",
        "import hydra\n",
        "import omegaconf\n"
      ],
      "execution_count": 15,
      "outputs": []
    },
    {
      "cell_type": "code",
      "metadata": {
        "id": "eEM3MJH8-5Uc"
      },
      "source": [
        "def test(model, loader, num_class=40):\n",
        "    mean_correct = []\n",
        "    class_acc = np.zeros((num_class,3))\n",
        "    for j, data in tqdm(enumerate(loader), total=len(loader)):\n",
        "        points, target = data\n",
        "        target = target[:, 0]\n",
        "        points, target = points.cuda(), target.cuda()\n",
        "        classifier = model.eval()\n",
        "        pred = classifier(points)\n",
        "        pred_choice = pred.data.max(1)[1]\n",
        "        for cat in np.unique(target.cpu()):\n",
        "            classacc = pred_choice[target==cat].eq(target[target==cat].long().data).cpu().sum()\n",
        "            class_acc[cat,0]+= classacc.item()/float(points[target==cat].size()[0])\n",
        "            class_acc[cat,1]+=1\n",
        "        correct = pred_choice.eq(target.long().data).cpu().sum()\n",
        "        mean_correct.append(correct.item()/float(points.size()[0]))\n",
        "    class_acc[:,2] =  class_acc[:,0]/ class_acc[:,1]\n",
        "    class_acc = np.mean(class_acc[:,2])\n",
        "    instance_acc = np.mean(mean_correct)\n",
        "    return instance_acc, class_accb"
      ],
      "execution_count": 16,
      "outputs": []
    },
    {
      "cell_type": "code",
      "metadata": {
        "colab": {
          "base_uri": "https://localhost:8080/",
          "height": 299
        },
        "id": "U98scalH-pEf",
        "outputId": "4480ea26-dcc1-4820-8755-79bee7828f91"
      },
      "source": [
        "@hydra.main(config_path='config', config_name='cls')\n",
        "def main(args):\n",
        "    omegaconf.OmegaConf.set_struct(args, False)\n",
        "\n",
        "    '''HYPER PARAMETER'''\n",
        "    os.environ[\"CUDA_VISIBLE_DEVICES\"] = str(args.gpu)\n",
        "    logger = logging.getLogger(__name__)\n",
        "\n",
        "    #print(args.pretty())\n",
        "\n",
        "    '''DATA LOADING'''\n",
        "    logger.info('Load dataset ...')\n",
        "    DATA_PATH = hydra.utils.to_absolute_path('/content/Point-Transformers/PortStructure/')\n",
        "\n",
        "    TRAIN_DATASET = ModelNetDataLoader(root=DATA_PATH, npoint=args.num_point, split='train', normal_channel=args.normal)\n",
        "    TEST_DATASET = ModelNetDataLoader(root=DATA_PATH, npoint=args.num_point, split='test', normal_channel=args.normal)\n",
        "    trainDataLoader = torch.utils.data.DataLoader(TRAIN_DATASET, batch_size=args.batch_size, shuffle=True, num_workers=4)\n",
        "    testDataLoader = torch.utils.data.DataLoader(TEST_DATASET, batch_size=args.batch_size, shuffle=False, num_workers=4)\n",
        "\n",
        "    '''MODEL LOADING'''\n",
        "    args.num_class = 4\n",
        "    args.input_dim = 6 if args.normal else 3\n",
        "    shutil.copy(hydra.utils.to_absolute_path('models/{}/model.py'.format(args.model.name)), '.')\n",
        "\n",
        "    classifier = getattr(importlib.import_module('models.{}.model'.format(args.model.name)), 'PointTransformerCls')(args).cuda()\n",
        "    criterion = torch.nn.CrossEntropyLoss()\n",
        "\n",
        "    try:\n",
        "        checkpoint = torch.load('best_model.pth')\n",
        "        start_epoch = checkpoint['epoch']\n",
        "        classifier.load_state_dict(checkpoint['model_state_dict'])\n",
        "        logger.info('Use pretrain model')\n",
        "    except:\n",
        "        logger.info('No existing model, starting training from scratch...')\n",
        "        start_epoch = 0\n",
        "\n",
        "\n",
        "    if args.optimizer == 'Adam':\n",
        "        optimizer = torch.optim.Adam(\n",
        "            classifier.parameters(),\n",
        "            lr=args.learning_rate,\n",
        "            betas=(0.9, 0.999),\n",
        "            eps=1e-08,\n",
        "            weight_decay=args.weight_decay\n",
        "        )\n",
        "    else:\n",
        "        optimizer = torch.optim.SGD(classifier.parameters(), lr=0.01, momentum=0.9)\n",
        "\n",
        "    scheduler = torch.optim.lr_scheduler.StepLR(optimizer, step_size=50, gamma=0.3)\n",
        "    global_epoch = 0\n",
        "    global_step = 0\n",
        "    best_instance_acc = 0.0\n",
        "    best_class_acc = 0.0\n",
        "    best_epoch = 0\n",
        "    mean_correct = []\n",
        "\n",
        "    '''TRANING'''\n",
        "    logger.info('Start training...')\n",
        "    for epoch in range(start_epoch,args.epoch):\n",
        "        logger.info('Epoch %d (%d/%s):' % (global_epoch + 1, epoch + 1, args.epoch))\n",
        "        \n",
        "        classifier.train()\n",
        "        for batch_id, data in enumerate(tqdm(trainDataLoader, 0)): # total=len(trainDataLoader), smoothing=0.9):\n",
        "        #for batch_id, data in tqdm(enumerate(trainDataLoader, 0), total=len(trainDataLoader), smoothing=0.9):\n",
        "            points, target = data\n",
        "            points = points.data.numpy()\n",
        "            points = provider.random_point_dropout(points)\n",
        "            points[:,:, 0:3] = provider.random_scale_point_cloud(points[:,:, 0:3])\n",
        "            points[:,:, 0:3] = provider.shift_point_cloud(points[:,:, 0:3])\n",
        "            points = torch.Tensor(points)\n",
        "            target = target[:, 0]\n",
        "\n",
        "            points, target = points.cuda(), target.cuda()\n",
        "            optimizer.zero_grad()\n",
        "\n",
        "            pred = classifier(points)\n",
        "            loss = criterion(pred, target.long())\n",
        "            pred_choice = pred.data.max(1)[1]\n",
        "            correct = pred_choice.eq(target.long().data).cpu().sum()\n",
        "            mean_correct.append(correct.item() / float(points.size()[0]))\n",
        "            loss.backward()\n",
        "            optimizer.step()\n",
        "            global_step += 1\n",
        "            \n",
        "        scheduler.step()\n",
        "\n",
        "        train_instance_acc = np.mean(mean_correct)\n",
        "        logger.info('Train Instance Accuracy: %f' % train_instance_acc)\n",
        "\n",
        "\n",
        "        with torch.no_grad():\n",
        "            instance_acc, class_acc = test(classifier.eval(), testDataLoader)\n",
        "\n",
        "            if (instance_acc >= best_instance_acc):\n",
        "                best_instance_acc = instance_acc\n",
        "                best_epoch = epoch + 1\n",
        "\n",
        "            if (class_acc >= best_class_acc):\n",
        "                best_class_acc = class_acc\n",
        "            logger.info('Test Instance Accuracy: %f, Class Accuracy: %f'% (instance_acc, class_acc))\n",
        "            logger.info('Best Instance Accuracy: %f, Class Accuracy: %f'% (best_instance_acc, best_class_acc))\n",
        "\n",
        "            if (instance_acc >= best_instance_acc):\n",
        "                logger.info('Save model...')\n",
        "                savepath = 'best_model.pth'\n",
        "                logger.info('Saving at %s'% savepath)\n",
        "                state = {\n",
        "                    'epoch': best_epoch,\n",
        "                    'instance_acc': instance_acc,\n",
        "                    'class_acc': class_acc,\n",
        "                    'model_state_dict': classifier.state_dict(),\n",
        "                    'optimizer_state_dict': optimizer.state_dict(),\n",
        "                }\n",
        "                torch.save(state, savepath)\n",
        "            global_epoch += 1\n",
        "\n",
        "    logger.info('End of training...')\n",
        "\n",
        "if __name__ == '__main__':\n",
        "    main()"
      ],
      "execution_count": 19,
      "outputs": [
        {
          "output_type": "stream",
          "name": "stderr",
          "text": [
            "usage: ipykernel_launcher.py [--help] [--hydra-help] [--version]\n",
            "                             [--cfg {job,hydra,all}] [--resolve]\n",
            "                             [--package PACKAGE] [--run] [--multirun]\n",
            "                             [--shell-completion] [--config-path CONFIG_PATH]\n",
            "                             [--config-name CONFIG_NAME]\n",
            "                             [--config-dir CONFIG_DIR]\n",
            "                             [--info [{all,config,defaults,defaults-tree,plugins,searchpath}]]\n",
            "                             [overrides [overrides ...]]\n",
            "ipykernel_launcher.py: error: unrecognized arguments: -f\n"
          ]
        },
        {
          "output_type": "error",
          "ename": "SystemExit",
          "evalue": "ignored",
          "traceback": [
            "An exception has occurred, use %tb to see the full traceback.\n",
            "\u001b[0;31mSystemExit\u001b[0m\u001b[0;31m:\u001b[0m 2\n"
          ]
        },
        {
          "output_type": "stream",
          "name": "stderr",
          "text": [
            "/usr/local/lib/python3.7/dist-packages/IPython/core/interactiveshell.py:2890: UserWarning: To exit: use 'exit', 'quit', or Ctrl-D.\n",
            "  warn(\"To exit: use 'exit', 'quit', or Ctrl-D.\", stacklevel=1)\n"
          ]
        }
      ]
    },
    {
      "cell_type": "code",
      "metadata": {
        "id": "XPYv22kW-0tI"
      },
      "source": [
        ""
      ],
      "execution_count": null,
      "outputs": []
    },
    {
      "cell_type": "code",
      "metadata": {
        "id": "lkM6wDdu-yTH"
      },
      "source": [
        ""
      ],
      "execution_count": null,
      "outputs": []
    }
  ]
}